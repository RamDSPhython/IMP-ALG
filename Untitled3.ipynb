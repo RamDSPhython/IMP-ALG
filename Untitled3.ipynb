{
 "cells": [
  {
   "cell_type": "code",
   "execution_count": 1,
   "metadata": {},
   "outputs": [],
   "source": [
    "#Importing Libraries\n",
    "\n",
    "import pandas as pd\n",
    "import numpy as np\n",
    "import matplotlib.pyplot as plt\n",
    "%matplotlib inline\n",
    "from sklearn.preprocessing import LabelEncoder"
   ]
  },
  {
   "cell_type": "code",
   "execution_count": 2,
   "metadata": {},
   "outputs": [],
   "source": [
    "df=pd.read_csv(\"scrapq.csv\")"
   ]
  },
  {
   "cell_type": "code",
   "execution_count": 3,
   "metadata": {},
   "outputs": [
    {
     "data": {
      "text/html": [
       "<div>\n",
       "<style scoped>\n",
       "    .dataframe tbody tr th:only-of-type {\n",
       "        vertical-align: middle;\n",
       "    }\n",
       "\n",
       "    .dataframe tbody tr th {\n",
       "        vertical-align: top;\n",
       "    }\n",
       "\n",
       "    .dataframe thead th {\n",
       "        text-align: right;\n",
       "    }\n",
       "</style>\n",
       "<table border=\"1\" class=\"dataframe\">\n",
       "  <thead>\n",
       "    <tr style=\"text-align: right;\">\n",
       "      <th></th>\n",
       "      <th>Name</th>\n",
       "      <th>Mobile</th>\n",
       "      <th>City</th>\n",
       "      <th>Register Type</th>\n",
       "      <th>Status</th>\n",
       "      <th>Category Type</th>\n",
       "    </tr>\n",
       "  </thead>\n",
       "  <tbody>\n",
       "    <tr>\n",
       "      <th>0</th>\n",
       "      <td>ANNAPURNA</td>\n",
       "      <td>9000894567</td>\n",
       "      <td>Hyderabad</td>\n",
       "      <td>CRM</td>\n",
       "      <td>COMPLETE</td>\n",
       "      <td>Residence</td>\n",
       "    </tr>\n",
       "    <tr>\n",
       "      <th>1</th>\n",
       "      <td>Rupal</td>\n",
       "      <td>9848283074</td>\n",
       "      <td>Hyderabad</td>\n",
       "      <td>SELF</td>\n",
       "      <td>COMPLETE</td>\n",
       "      <td>Residence</td>\n",
       "    </tr>\n",
       "    <tr>\n",
       "      <th>2</th>\n",
       "      <td>SWAMY</td>\n",
       "      <td>9030747436</td>\n",
       "      <td>Hyderabad</td>\n",
       "      <td>CRM</td>\n",
       "      <td>COMPLETE</td>\n",
       "      <td>Residence</td>\n",
       "    </tr>\n",
       "    <tr>\n",
       "      <th>3</th>\n",
       "      <td>PRANITHA</td>\n",
       "      <td>4027648868</td>\n",
       "      <td>Hyderabad</td>\n",
       "      <td>CRM</td>\n",
       "      <td>COMPLETE</td>\n",
       "      <td>Residence</td>\n",
       "    </tr>\n",
       "    <tr>\n",
       "      <th>4</th>\n",
       "      <td>RAMESH</td>\n",
       "      <td>8008477986</td>\n",
       "      <td>Hyderabad</td>\n",
       "      <td>CRM</td>\n",
       "      <td>COMPLETE</td>\n",
       "      <td>Residence</td>\n",
       "    </tr>\n",
       "  </tbody>\n",
       "</table>\n",
       "</div>"
      ],
      "text/plain": [
       "        Name      Mobile       City Register Type    Status Category Type\n",
       "0  ANNAPURNA  9000894567  Hyderabad           CRM  COMPLETE     Residence\n",
       "1      Rupal  9848283074  Hyderabad          SELF  COMPLETE     Residence\n",
       "2      SWAMY  9030747436  Hyderabad           CRM  COMPLETE     Residence\n",
       "3   PRANITHA  4027648868  Hyderabad           CRM  COMPLETE     Residence\n",
       "4     RAMESH  8008477986  Hyderabad           CRM  COMPLETE     Residence"
      ]
     },
     "execution_count": 3,
     "metadata": {},
     "output_type": "execute_result"
    }
   ],
   "source": [
    "df.head()"
   ]
  },
  {
   "cell_type": "code",
   "execution_count": 6,
   "metadata": {},
   "outputs": [],
   "source": [
    "df.drop('Mobile', inplace= True,axis=1)"
   ]
  },
  {
   "cell_type": "code",
   "execution_count": 7,
   "metadata": {},
   "outputs": [
    {
     "data": {
      "text/html": [
       "<div>\n",
       "<style scoped>\n",
       "    .dataframe tbody tr th:only-of-type {\n",
       "        vertical-align: middle;\n",
       "    }\n",
       "\n",
       "    .dataframe tbody tr th {\n",
       "        vertical-align: top;\n",
       "    }\n",
       "\n",
       "    .dataframe thead th {\n",
       "        text-align: right;\n",
       "    }\n",
       "</style>\n",
       "<table border=\"1\" class=\"dataframe\">\n",
       "  <thead>\n",
       "    <tr style=\"text-align: right;\">\n",
       "      <th></th>\n",
       "      <th>Name</th>\n",
       "      <th>City</th>\n",
       "      <th>Register Type</th>\n",
       "      <th>Status</th>\n",
       "      <th>Category Type</th>\n",
       "    </tr>\n",
       "  </thead>\n",
       "  <tbody>\n",
       "    <tr>\n",
       "      <th>0</th>\n",
       "      <td>ANNAPURNA</td>\n",
       "      <td>Hyderabad</td>\n",
       "      <td>CRM</td>\n",
       "      <td>COMPLETE</td>\n",
       "      <td>Residence</td>\n",
       "    </tr>\n",
       "    <tr>\n",
       "      <th>1</th>\n",
       "      <td>Rupal</td>\n",
       "      <td>Hyderabad</td>\n",
       "      <td>SELF</td>\n",
       "      <td>COMPLETE</td>\n",
       "      <td>Residence</td>\n",
       "    </tr>\n",
       "    <tr>\n",
       "      <th>2</th>\n",
       "      <td>SWAMY</td>\n",
       "      <td>Hyderabad</td>\n",
       "      <td>CRM</td>\n",
       "      <td>COMPLETE</td>\n",
       "      <td>Residence</td>\n",
       "    </tr>\n",
       "    <tr>\n",
       "      <th>3</th>\n",
       "      <td>PRANITHA</td>\n",
       "      <td>Hyderabad</td>\n",
       "      <td>CRM</td>\n",
       "      <td>COMPLETE</td>\n",
       "      <td>Residence</td>\n",
       "    </tr>\n",
       "    <tr>\n",
       "      <th>4</th>\n",
       "      <td>RAMESH</td>\n",
       "      <td>Hyderabad</td>\n",
       "      <td>CRM</td>\n",
       "      <td>COMPLETE</td>\n",
       "      <td>Residence</td>\n",
       "    </tr>\n",
       "  </tbody>\n",
       "</table>\n",
       "</div>"
      ],
      "text/plain": [
       "        Name       City Register Type    Status Category Type\n",
       "0  ANNAPURNA  Hyderabad           CRM  COMPLETE     Residence\n",
       "1      Rupal  Hyderabad          SELF  COMPLETE     Residence\n",
       "2      SWAMY  Hyderabad           CRM  COMPLETE     Residence\n",
       "3   PRANITHA  Hyderabad           CRM  COMPLETE     Residence\n",
       "4     RAMESH  Hyderabad           CRM  COMPLETE     Residence"
      ]
     },
     "execution_count": 7,
     "metadata": {},
     "output_type": "execute_result"
    }
   ],
   "source": [
    "df.head()"
   ]
  },
  {
   "cell_type": "code",
   "execution_count": 9,
   "metadata": {},
   "outputs": [
    {
     "data": {
      "text/plain": [
       "Name                1\n",
       "City             1558\n",
       "Register Type       0\n",
       "Status              0\n",
       "Category Type    1510\n",
       "dtype: int64"
      ]
     },
     "execution_count": 9,
     "metadata": {},
     "output_type": "execute_result"
    }
   ],
   "source": [
    "df.isnull().sum()"
   ]
  },
  {
   "cell_type": "code",
   "execution_count": 11,
   "metadata": {},
   "outputs": [],
   "source": [
    "df.City.fillna(df.City.value_counts().idxmax(),inplace=True)"
   ]
  },
  {
   "cell_type": "code",
   "execution_count": 12,
   "metadata": {},
   "outputs": [
    {
     "data": {
      "text/plain": [
       "Name                1\n",
       "City                0\n",
       "Register Type       0\n",
       "Status              0\n",
       "Category Type    1510\n",
       "dtype: int64"
      ]
     },
     "execution_count": 12,
     "metadata": {},
     "output_type": "execute_result"
    }
   ],
   "source": [
    "df.isnull().sum()\n"
   ]
  },
  {
   "cell_type": "code",
   "execution_count": null,
   "metadata": {},
   "outputs": [],
   "source": [
    "df.City.fillna(df.City.value_counts().idxmax(),inplace=True)"
   ]
  },
  {
   "cell_type": "code",
   "execution_count": null,
   "metadata": {},
   "outputs": [],
   "source": []
  },
  {
   "cell_type": "code",
   "execution_count": null,
   "metadata": {},
   "outputs": [],
   "source": []
  },
  {
   "cell_type": "code",
   "execution_count": null,
   "metadata": {},
   "outputs": [],
   "source": []
  },
  {
   "cell_type": "code",
   "execution_count": null,
   "metadata": {},
   "outputs": [],
   "source": []
  }
 ],
 "metadata": {
  "kernelspec": {
   "display_name": "Python 3",
   "language": "python",
   "name": "python3"
  },
  "language_info": {
   "codemirror_mode": {
    "name": "ipython",
    "version": 3
   },
   "file_extension": ".py",
   "mimetype": "text/x-python",
   "name": "python",
   "nbconvert_exporter": "python",
   "pygments_lexer": "ipython3",
   "version": "3.8.3"
  }
 },
 "nbformat": 4,
 "nbformat_minor": 4
}
